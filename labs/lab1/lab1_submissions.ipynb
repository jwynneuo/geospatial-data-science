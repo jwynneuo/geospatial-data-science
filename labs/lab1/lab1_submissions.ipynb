{
 "cells": [
  {
   "cell_type": "code",
   "execution_count": 2,
   "id": "f25c72d0",
   "metadata": {},
   "outputs": [
    {
     "name": "stdout",
     "output_type": "stream",
     "text": [
      "9\n"
     ]
    }
   ],
   "source": [
    "import numpy as np\n",
    "a = 3\n",
    "b = 3\n",
    "c = np.multiply(a, b)\n",
    "print(c)\n"
   ]
  },
  {
   "cell_type": "markdown",
   "id": "f84bf677",
   "metadata": {},
   "source": [
    "[![Mesa Verde](MesaVerde.jpg)](https://www.google.com/url?sa=i&url=https%3A%2F%2Fwww.5280.com%2F2021%2F09%2Funlocking-the-secrets-of-mesa-verde-national-park%2F&psig=AOvVaw3oSIZneEEBflaoXTD5zqqG&ust=1641509914590000&source=images&cd=vfe&ved=0CAsQjRxqFwoTCMjuyI3bm_UCFQAAAAAdAAAAABAD)"
   ]
  },
  {
   "cell_type": "markdown",
   "id": "ef1d6d61",
   "metadata": {},
   "source": [
    "Ancestral Puebloan city located in Southwestern Colorado. \n"
   ]
  },
  {
   "cell_type": "code",
   "execution_count": 6,
   "id": "82819fd1",
   "metadata": {},
   "outputs": [
    {
     "ename": "SyntaxError",
     "evalue": "invalid syntax (Temp/ipykernel_27852/2816792391.py, line 1)",
     "output_type": "error",
     "traceback": [
      "\u001b[1;36m  File \u001b[1;32m\"C:\\Users\\jimwy\\AppData\\Local\\Temp/ipykernel_27852/2816792391.py\"\u001b[1;36m, line \u001b[1;32m1\u001b[0m\n\u001b[1;33m    <p>Mesa Verde </P>\u001b[0m\n\u001b[1;37m    ^\u001b[0m\n\u001b[1;31mSyntaxError\u001b[0m\u001b[1;31m:\u001b[0m invalid syntax\n"
     ]
    }
   ],
   "source": [
    "<p>Mesa Verde </P>"
   ]
  },
  {
   "cell_type": "markdown",
   "id": "68b30b45",
   "metadata": {},
   "source": [
    "*ancestral pubeloan*  **city** ***located*** in **colorado**\n"
   ]
  },
  {
   "cell_type": "code",
   "execution_count": 7,
   "id": "9c484496",
   "metadata": {},
   "outputs": [
    {
     "ename": "SyntaxError",
     "evalue": "invalid syntax (Temp/ipykernel_27852/4224347064.py, line 1)",
     "output_type": "error",
     "traceback": [
      "\u001b[1;36m  File \u001b[1;32m\"C:\\Users\\jimwy\\AppData\\Local\\Temp/ipykernel_27852/4224347064.py\"\u001b[1;36m, line \u001b[1;32m1\u001b[0m\n\u001b[1;33m    **https://www.google.com/url?sa=i&url=https%3A%2F%2Fwww.5280.com%2F2021%2F09%2Funlocking-the-secrets-of-mesa-verde-national-park%2F&psig=AOvVaw3oSIZneEEBflaoXTD5zqqG&ust=1641509914590000&source=images&cd=vfe&ved=0CAsQjRxqFwoTCMjuyI3bm_UCFQAAAAAdAAAAABAD**\u001b[0m\n\u001b[1;37m    ^\u001b[0m\n\u001b[1;31mSyntaxError\u001b[0m\u001b[1;31m:\u001b[0m invalid syntax\n"
     ]
    }
   ],
   "source": [
    "**https://www.google.com/url?sa=i&url=https%3A%2F%2Fwww.5280.com%2F2021%2F09%2Funlocking-the-secrets-of-mesa-verde-national-park%2F&psig=AOvVaw3oSIZneEEBflaoXTD5zqqG&ust=1641509914590000&source=images&cd=vfe&ved=0CAsQjRxqFwoTCMjuyI3bm_UCFQAAAAAdAAAAABAD**\n",
    "    "
   ]
  },
  {
   "cell_type": "markdown",
   "id": "6f42c5f5",
   "metadata": {},
   "source": [
    "**https://www.google.com/url?sa=i&url=https%3A%2F%2Fwww.5280.com%2F2021%2F09%2Funlocking-the-secrets-of-mesa-verde-national-park%2F&psig=AOvVaw3oSIZneEEBflaoXTD5zqqG&ust=1641509914590000&source=images&cd=vfe&ved=0CAsQjRxqFwoTCMjuyI3bm_UCFQAAAAAdAAAAABAD**\n"
   ]
  },
  {
   "cell_type": "code",
   "execution_count": null,
   "id": "b702cff5",
   "metadata": {},
   "outputs": [],
   "source": []
  }
 ],
 "metadata": {
  "kernelspec": {
   "display_name": "Python 3 (ipykernel)",
   "language": "python",
   "name": "python3"
  },
  "language_info": {
   "codemirror_mode": {
    "name": "ipython",
    "version": 3
   },
   "file_extension": ".py",
   "mimetype": "text/x-python",
   "name": "python",
   "nbconvert_exporter": "python",
   "pygments_lexer": "ipython3",
   "version": "3.8.12"
  }
 },
 "nbformat": 4,
 "nbformat_minor": 5
}
