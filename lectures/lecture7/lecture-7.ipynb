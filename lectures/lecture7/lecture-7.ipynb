{
 "cells": [
  {
   "cell_type": "markdown",
   "id": "8eb35a9b",
   "metadata": {
    "slideshow": {
     "slide_type": "slide"
    }
   },
   "source": [
    "<CENTER>\n",
    "    <h1> Geospatial Data Science Applications: GEOG 4/590</h1>\n",
    "    <h3>Feb 14, 2022</h3>\n",
    "    <h2>Lecture 7: Data access</h2>\n",
    "    <img src=\"images/coding-computer-programming.jpeg\" width=\"300\"/>\n",
    "    <h3>Johnny Ryan: jryan4@uoregon.edu</h3>\n",
    "</CENTER>"
   ]
  },
  {
   "cell_type": "markdown",
   "id": "2dcf3075",
   "metadata": {
    "slideshow": {
     "slide_type": "slide"
    }
   },
   "source": [
    "## Content of this lecture\n",
    "\n",
    "* Web2.0\n",
    "\n",
    "\n",
    "* Standard data access using APIs\n",
    "\n",
    "\n",
    "* What happens when an API is unavailable or insufficient?\n",
    "\n",
    "\n",
    "* Background for this week's lab"
   ]
  },
  {
   "cell_type": "code",
   "execution_count": null,
   "id": "0a295a96",
   "metadata": {
    "slideshow": {
     "slide_type": "slide"
    }
   },
   "outputs": [],
   "source": [
    "from IPython.display import HTML\n",
    "HTML('<iframe width=\"560\" height=\"315\" src=\"https://www.youtube.com/embed/BxV14h0kFs0\" title=\"YouTube video player\" frameborder=\"0\" allow=\"accelerometer; autoplay; clipboard-write; encrypted-media; gyroscope; picture-in-picture\" allowfullscreen></iframe>')"
   ]
  },
  {
   "cell_type": "markdown",
   "id": "342f1c02",
   "metadata": {
    "slideshow": {
     "slide_type": "slide"
    }
   },
   "source": [
    "## APIs\n",
    "\n",
    "\n",
    "* Application programming interface\n",
    "\n",
    "\n",
    "* A type of **software** that provides a **standard set of protocols/functions** so that our computer can **communicate** with other computers\n",
    "\n",
    "\n",
    "* In contrast, a **user interface** is a type of software that connects a **computer** to a **person**"
   ]
  },
  {
   "cell_type": "markdown",
   "id": "c1f6a26e",
   "metadata": {
    "slideshow": {
     "slide_type": "subslide"
    }
   },
   "source": [
    "## APIs\n",
    "\n",
    "* Many organizations have great APIs because they want people to use their data\n",
    "\n",
    "\n",
    "* We have used one..."
   ]
  },
  {
   "cell_type": "markdown",
   "id": "313a8899",
   "metadata": {
    "slideshow": {
     "slide_type": "subslide"
    }
   },
   "source": [
    "<img src=\"images/cenpy.png\" width=\"1000\"/>"
   ]
  },
  {
   "cell_type": "code",
   "execution_count": null,
   "id": "a651a3b1",
   "metadata": {
    "slideshow": {
     "slide_type": "subslide"
    }
   },
   "outputs": [],
   "source": [
    "# Install cenpy\n",
    "!conda install -c conda-forge cenpy --yes"
   ]
  },
  {
   "cell_type": "markdown",
   "id": "7c1e3398",
   "metadata": {
    "slideshow": {
     "slide_type": "subslide"
    }
   },
   "source": [
    "<img src=\"images/cenpy_examples.png\" width=\"1000\"/>"
   ]
  },
  {
   "cell_type": "code",
   "execution_count": 2,
   "id": "763f3c4e",
   "metadata": {},
   "outputs": [
    {
     "ename": "ModuleNotFoundError",
     "evalue": "No module named 'cenpy'",
     "output_type": "error",
     "traceback": [
      "\u001b[0;31m---------------------------------------------------------------------------\u001b[0m",
      "\u001b[0;31mModuleNotFoundError\u001b[0m                       Traceback (most recent call last)",
      "Input \u001b[0;32mIn [2]\u001b[0m, in \u001b[0;36m<module>\u001b[0;34m\u001b[0m\n\u001b[0;32m----> 1\u001b[0m \u001b[38;5;28;01mfrom\u001b[39;00m \u001b[38;5;21;01mcenpy\u001b[39;00m \u001b[38;5;28;01mimport\u001b[39;00m products\n\u001b[1;32m      2\u001b[0m chicago \u001b[38;5;241m=\u001b[39m products\u001b[38;5;241m.\u001b[39mACS(\u001b[38;5;241m2017\u001b[39m)\u001b[38;5;241m.\u001b[39mfrom_place(\u001b[38;5;124m'\u001b[39m\u001b[38;5;124mChicago, IL\u001b[39m\u001b[38;5;124m'\u001b[39m, level\u001b[38;5;241m=\u001b[39m\u001b[38;5;124m'\u001b[39m\u001b[38;5;124mtract\u001b[39m\u001b[38;5;124m'\u001b[39m, \n\u001b[1;32m      3\u001b[0m                                         variables\u001b[38;5;241m=\u001b[39m[\u001b[38;5;124m'\u001b[39m\u001b[38;5;124mB01002H_00E\u001b[39m\u001b[38;5;124m'\u001b[39m])\n",
      "\u001b[0;31mModuleNotFoundError\u001b[0m: No module named 'cenpy'"
     ]
    }
   ],
   "source": [
    "# Import package\n",
    "from cenpy import products\n",
    "\n",
    "# Run a test example\n",
    "chicago = products.ACS(2017).from_place('Chicago, IL', level='tract', \n",
    "                                        variables=['B01002H_00E'])"
   ]
  },
  {
   "cell_type": "markdown",
   "id": "82cfcbcb",
   "metadata": {
    "slideshow": {
     "slide_type": "slide"
    }
   },
   "source": [
    "## APIs are sometimes not available or have limitations"
   ]
  },
  {
   "cell_type": "markdown",
   "id": "fcc43b60",
   "metadata": {
    "slideshow": {
     "slide_type": "subslide"
    }
   },
   "source": [
    "<img src=\"images/zillow.png\" width=\"900\"/>"
   ]
  },
  {
   "cell_type": "markdown",
   "id": "e901f5e7",
   "metadata": {
    "slideshow": {
     "slide_type": "subslide"
    }
   },
   "source": [
    "<img src=\"images/zillow2.png\" width=\"900\"/>"
   ]
  },
  {
   "cell_type": "markdown",
   "id": "168a96f9",
   "metadata": {
    "slideshow": {
     "slide_type": "subslide"
    }
   },
   "source": [
    "<img src=\"images/airbnb.png\" width=\"800\"/>"
   ]
  },
  {
   "cell_type": "markdown",
   "id": "28aa4bc1",
   "metadata": {
    "slideshow": {
     "slide_type": "slide"
    }
   },
   "source": [
    "* These companies hoard data to secure market dominance\n",
    "\n",
    "\n",
    "* Without access to their data it is difficult to tell whether they are in compliance\n",
    "\n",
    "\n",
    "* By guarding data, they are also preventing it being used for good (maybe bad) causes "
   ]
  },
  {
   "cell_type": "markdown",
   "id": "43c30376",
   "metadata": {
    "slideshow": {
     "slide_type": "slide"
    }
   },
   "source": [
    "<img src=\"images/cambridge.png\" width=\"1000\"/>"
   ]
  },
  {
   "cell_type": "markdown",
   "id": "cda5036a",
   "metadata": {
    "slideshow": {
     "slide_type": "notes"
    }
   },
   "source": [
    "Facebook loophole that allowed third-party apps to access not only user profile data but profile data of all friends. Kogan copied someone else's idea and made \"thisisyourdigitallife\". Only 270K used it but collected data from all friends of users (50+ million FB profiles)."
   ]
  },
  {
   "cell_type": "markdown",
   "id": "f3a52f03",
   "metadata": {},
   "source": [
    "## Web scraping\n",
    "\n",
    "* Also known as crawling or harvesting is the practice of **automatically** gathering data from the internet without the use of an **API**\n",
    "\n",
    "\n",
    "* Most commonly accomplished by writing a program that **queries** a web server, **requests** data (usually in the form of HTML), and **parses** that data to extract information"
   ]
  },
  {
   "cell_type": "markdown",
   "id": "1e73bfce",
   "metadata": {
    "slideshow": {
     "slide_type": "slide"
    }
   },
   "source": [
    "<img src=\"images/scrape_hero.png\" width=\"1000\"/>"
   ]
  },
  {
   "cell_type": "markdown",
   "id": "febe8c0a",
   "metadata": {
    "slideshow": {
     "slide_type": "slide"
    }
   },
   "source": [
    "<img src=\"images/inside_airbnb.png\" width=\"1000\"/>"
   ]
  },
  {
   "cell_type": "markdown",
   "id": "6df2f7a2",
   "metadata": {
    "slideshow": {
     "slide_type": "slide"
    }
   },
   "source": [
    "## Suppose a friend wanted to do this?\n"
   ]
  },
  {
   "cell_type": "code",
   "execution_count": null,
   "id": "a9190a3a",
   "metadata": {},
   "outputs": [],
   "source": []
  }
 ],
 "metadata": {
  "celltoolbar": "Slideshow",
  "kernelspec": {
   "display_name": "Python 3 (ipykernel)",
   "language": "python",
   "name": "python3"
  },
  "language_info": {
   "codemirror_mode": {
    "name": "ipython",
    "version": 3
   },
   "file_extension": ".py",
   "mimetype": "text/x-python",
   "name": "python",
   "nbconvert_exporter": "python",
   "pygments_lexer": "ipython3",
   "version": "3.10.2"
  }
 },
 "nbformat": 4,
 "nbformat_minor": 5
}
